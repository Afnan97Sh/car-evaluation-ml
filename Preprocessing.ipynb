{
 "cells": [
  {
   "cell_type": "markdown",
   "id": "028b28f7",
   "metadata": {},
   "source": [
    "I used excel for splitting slach in columns like fuel types and etc by Extentions then power tools then start then split and custom by (/) and plit by rows\n",
    "I used Sum and average in seats column because it has arithmetic operations\n",
    "I will focus now in hanling units and converting them to a common format"
   ]
  },
  {
   "cell_type": "code",
   "execution_count": 1,
   "id": "462031a5",
   "metadata": {},
   "outputs": [],
   "source": [
    "#import necessary libraries\n",
    "import pandas as pd\n",
    "import numpy as np\n",
    "import re\n",
    "\n",
    "# Load the dataset\n",
    "df = pd.read_csv(\"Data/CCar.csv\") \n"
   ]
  },
  {
   "cell_type": "code",
   "execution_count": 2,
   "id": "7de45ddd",
   "metadata": {},
   "outputs": [
    {
     "name": "stdout",
     "output_type": "stream",
     "text": [
      "Total number of duplicate rows:\n",
      " 0\n"
     ]
    }
   ],
   "source": [
    "# Check for duplicate rows\n",
    "duplicate_count = df.duplicated().sum()\n",
    "\n",
    "# Output result\n",
    "print(\"Total number of duplicate rows:\\n\",duplicate_count)"
   ]
  },
  {
   "cell_type": "code",
   "execution_count": 3,
   "id": "b281329f",
   "metadata": {},
   "outputs": [
    {
     "name": "stdout",
     "output_type": "stream",
     "text": [
      "Company Names                0\n",
      "Cars Names                   0\n",
      "Engines                      0\n",
      "Battery Capacity_CC          2\n",
      "HorsePower_hp                0\n",
      "Total Speed_km/h             0\n",
      "Performance(0 - 100 )KM/H    6\n",
      "Fuel Types                   0\n",
      "Seats                        0\n",
      "Torque_Nm                    1\n",
      "Cars Prices_USD              0\n",
      "dtype: int64\n"
     ]
    }
   ],
   "source": [
    "# Count missing values in each column\n",
    "missing_values = df.isnull().sum()\n",
    "\n",
    "# Display result\n",
    "print(missing_values)"
   ]
  },
  {
   "cell_type": "code",
   "execution_count": 4,
   "id": "1b168f2d",
   "metadata": {},
   "outputs": [
    {
     "name": "stdout",
     "output_type": "stream",
     "text": [
      "Company Names                object\n",
      "Cars Names                   object\n",
      "Engines                      object\n",
      "Battery Capacity_CC          object\n",
      "HorsePower_hp                object\n",
      "Total Speed_km/h             object\n",
      "Performance(0 - 100 )KM/H    object\n",
      "Fuel Types                   object\n",
      "Seats                         int64\n",
      "Torque_Nm                    object\n",
      "Cars Prices_USD              object\n",
      "dtype: object\n"
     ]
    }
   ],
   "source": [
    "# Show data types of each column\n",
    "print(df.dtypes)\n"
   ]
  },
  {
   "cell_type": "code",
   "execution_count": 5,
   "id": "fc51e688",
   "metadata": {},
   "outputs": [
    {
     "name": "stdout",
     "output_type": "stream",
     "text": [
      "Realistic mean of Battery Capacity (cc): 2813.62\n"
     ]
    }
   ],
   "source": [
    "#  Clean battery capacity values\n",
    "def clean_battery_capacity(value):\n",
    "    if pd.isna(value):\n",
    "        return np.nan\n",
    "\n",
    "    val = str(value).lower().replace(',', '').strip()\n",
    "\n",
    "    # Exclude kWh entries\n",
    "    if 'kwh' in val:\n",
    "        return np.nan\n",
    "\n",
    "    # Handle range like \"1300-1500\"\n",
    "    if '-' in val:\n",
    "        nums = re.findall(r'\\d+\\.?\\d*', val)\n",
    "        if len(nums) == 2:\n",
    "            return (float(nums[0]) + float(nums[1])) / 2\n",
    "\n",
    "    # Extract single cc value\n",
    "    match = re.search(r'\\d+\\.?\\d*', val.replace('cc', ''))\n",
    "    return float(match.group()) if match else np.nan\n",
    "\n",
    "#  Apply the cleaning function\n",
    "df['Battery Capacity_CC'] = df['Battery Capacity_CC'].apply(clean_battery_capacity)\n",
    "\n",
    "# Calculate the mean from all valid cc values (excluding only NaN and kWh)\n",
    "realistic_mean = df['Battery Capacity_CC'].mean()\n",
    "\n",
    "# Output the calculated mean\n",
    "print(f\"Realistic mean of Battery Capacity (cc): {realistic_mean:.2f}\")\n",
    "# Fill missing and kWh-derived NaN values with the realistic mean\n",
    "df['Battery Capacity_CC'] = df['Battery Capacity_CC'].fillna(realistic_mean)\n",
    "\n"
   ]
  },
  {
   "cell_type": "code",
   "execution_count": 6,
   "id": "d26c115e",
   "metadata": {},
   "outputs": [],
   "source": [
    "#fix horsepower,torque and prices columns\n",
    "\n",
    "# Helper function to clean numeric values with optional unit removal and range handling\n",
    "def clean_numeric_column(value, unit_keywords=None, allow_range=True):\n",
    "    if pd.isna(value):\n",
    "        return np.nan\n",
    "    val = str(value).lower().replace(',', '').replace('$', '').strip()\n",
    "    if unit_keywords:\n",
    "        for keyword in unit_keywords:\n",
    "            val = val.replace(keyword.lower(), '')\n",
    "    if allow_range and '-' in val:\n",
    "        nums = re.findall(r'\\d+\\.?\\d*', val)\n",
    "        if len(nums) == 2:\n",
    "            return (float(nums[0]) + float(nums[1])) / 2\n",
    "    match = re.search(r'\\d+\\.?\\d*', val)\n",
    "    return float(match.group()) if match else np.nan\n",
    "\n",
    "# Clean specific columns\n",
    "df['HorsePower_hp'] = df['HorsePower_hp'].apply(lambda x: clean_numeric_column(x, unit_keywords=['hp']))\n",
    "df['Torque_Nm'] = df['Torque_Nm'].apply(lambda x: clean_numeric_column(x, unit_keywords=['nm']))\n",
    "df['Cars Prices_USD'] = df['Cars Prices_USD'].apply(lambda x: clean_numeric_column(x))\n",
    "\n",
    "# Impute missing values with mean for each column\n",
    "for col in ['HorsePower_hp', 'Torque_Nm', 'Cars Prices_USD']:\n",
    "    mean_val = df[col].mean()\n",
    "    df[col] = df[col].fillna(mean_val)\n",
    "\n"
   ]
  },
  {
   "cell_type": "code",
   "execution_count": 7,
   "id": "e2834bd6",
   "metadata": {},
   "outputs": [],
   "source": [
    "#Fix Performance column\n",
    "#  Rename the column to reflect its true content\n",
    "df.rename(columns={'Performance(0 - 100 )KM/H': 'Acceleration_0_100_sec'}, inplace=True)\n",
    "\n",
    "# Clean the values (remove 'sec', handle ranges, convert to float)\n",
    "def clean_acceleration(value):\n",
    "    if pd.isna(value):\n",
    "        return np.nan\n",
    "    val = str(value).lower().replace('sec', '').strip()\n",
    "    if '-' in val:\n",
    "        nums = re.findall(r'\\d+\\.?\\d*', val)\n",
    "        if len(nums) == 2:\n",
    "            return (float(nums[0]) + float(nums[1])) / 2\n",
    "    match = re.search(r'\\d+\\.?\\d*', val)\n",
    "    return float(match.group()) if match else np.nan\n",
    "\n",
    "df['Acceleration_0_100_sec'] = df['Acceleration_0_100_sec'].apply(clean_acceleration)\n",
    "\n",
    "# Fill missing values with the mean\n",
    "mean_acc = df['Acceleration_0_100_sec'].mean()\n",
    "df['Acceleration_0_100_sec'] = df['Acceleration_0_100_sec'].fillna(mean_acc)\n"
   ]
  },
  {
   "cell_type": "code",
   "execution_count": 8,
   "id": "29ba91fd",
   "metadata": {},
   "outputs": [],
   "source": [
    "# Clean and impute 'Total Speed_km/h'\n",
    "def clean_total_speed(value):\n",
    "    if pd.isna(value):\n",
    "        return np.nan\n",
    "    val = str(value).lower().replace('km/h', '').strip()\n",
    "    if '-' in val:\n",
    "        nums = re.findall(r'\\d+\\.?\\d*', val)\n",
    "        if len(nums) == 2:\n",
    "            return (float(nums[0]) + float(nums[1])) / 2\n",
    "    match = re.search(r'\\d+\\.?\\d*', val)\n",
    "    return float(match.group()) if match else np.nan\n",
    "\n",
    "# Apply cleaning function\n",
    "df['Total Speed_km/h'] = df['Total Speed_km/h'].apply(clean_total_speed)\n",
    "\n",
    "# Fill missing values with the mean\n",
    "mean_speed = df['Total Speed_km/h'].mean()\n",
    "df['Total Speed_km/h'] = df['Total Speed_km/h'].fillna(mean_speed)\n"
   ]
  },
  {
   "cell_type": "code",
   "execution_count": 9,
   "id": "71a43ccb",
   "metadata": {},
   "outputs": [],
   "source": [
    "#Fix Engines column\n",
    "\n",
    "# Function to extract engine displacement in Liters (e.g., 1.6L → 1.6)\n",
    "def extract_displacement(engine_str):\n",
    "    if pd.isna(engine_str):\n",
    "        return np.nan\n",
    "    match = re.search(r'(\\d+\\.?\\d*)\\s*[lL]', engine_str)\n",
    "    return float(match.group(1)) if match else np.nan\n",
    "\n",
    "# Function to extract engine configuration (V6, I4, BOXER-4)\n",
    "def extract_engine_type(engine_str):\n",
    "    if pd.isna(engine_str):\n",
    "        return np.nan\n",
    "    match = re.search(r'\\b(V\\d+|I\\d+|INLINE-\\d+|BOXER-\\d+)\\b', engine_str.upper())\n",
    "    return match.group(1) if match else np.nan\n",
    "\n",
    "# Function to classify powertrain: Electric, Hybrid, or Combustion\n",
    "def classify_powertrain(engine_str):\n",
    "    if pd.isna(engine_str):\n",
    "        return \"Unknown\"\n",
    "    val = engine_str.lower()\n",
    "    if \"electric\" in val and \"hybrid\" not in val:\n",
    "        return \"Electric\"\n",
    "    elif \"hybrid\" in val or (\"electric\" in val and \"+\" in val):\n",
    "        return \"Hybrid\"\n",
    "    else:\n",
    "        return \"Combustion\"\n",
    "\n",
    "# Apply functions to create new columns\n",
    "\n",
    "df['Power_Type'] = df['Engines'].apply(classify_powertrain)\n"
   ]
  },
  {
   "cell_type": "code",
   "execution_count": 10,
   "id": "447279c9",
   "metadata": {},
   "outputs": [],
   "source": [
    "# Fix Fuel Types column\n",
    "\n",
    "# Initial cleanup: strip and title-case\n",
    "df['Fuel Types'] = df['Fuel Types'].str.strip().str.title()\n",
    "\n",
    "# First pass of cleaning known issues\n",
    "fuel_clean_map = {\n",
    "    'Plug In Hyrbrid': 'Plug-in Hybrid',\n",
    "    'Hybrid (Petrol)': 'Hybrid',\n",
    "    'Petrol (Hybrid)': 'Hybrid',\n",
    "    'Diesel Hybrid': 'Hybrid',\n",
    "    'Ev': 'Electric',\n",
    "    'Electric Only': 'Electric',\n",
    "    'Awd': np.nan,  # Not a fuel type\n",
    "    'Hybrid ': 'Hybrid',\n",
    "    'Diesel ': 'Diesel'\n",
    "}\n",
    "df['Fuel Types'] = df['Fuel Types'].replace(fuel_clean_map)\n",
    "\n",
    "# Fix case inconsistency for \"Plug-in Hybrid\"\n",
    "df['Fuel Types'] = df['Fuel Types'].replace({'Plug-In Hybrid': 'Plug-in Hybrid'})\n",
    "\n"
   ]
  },
  {
   "cell_type": "code",
   "execution_count": 11,
   "id": "5cca7486",
   "metadata": {},
   "outputs": [],
   "source": [
    "# Fix Company Names column)\n",
    "\n",
    "# Standardize capitalization and remove extra spaces\n",
    "df['Company Names'] = df['Company Names'].str.strip().str.title()\n",
    "\n",
    "# Correct known typos and variants\n",
    "company_fix_map = {\n",
    "    'Frrari': 'Ferrari',\n",
    "    'Toyot': 'Toyota',\n",
    "    'Tsla': 'Tesla',\n",
    "    'Frd': 'Ford',\n",
    "    'Mistubishi': 'Mitsubishi',\n",
    "    'Mazda ': 'Mazda',  # Extra space\n",
    "    'Kia': 'KIA',\n",
    "    'Bmw': 'BMW',\n",
    "    'Audi': 'Audi',\n",
    "    'Mercedes': 'Mercedes',\n",
    "    'Nissan': 'Nissan',\n",
    "    'Volkswagen': 'Volkswagen',\n",
    "    'Volvo': 'Volvo'\n",
    "}\n",
    "\n",
    "# Apply corrections\n",
    "df['Company Names'] = df['Company Names'].replace(company_fix_map)\n",
    "\n"
   ]
  },
  {
   "cell_type": "code",
   "execution_count": 12,
   "id": "8e0f145a",
   "metadata": {},
   "outputs": [
    {
     "name": "stdout",
     "output_type": "stream",
     "text": [
      "['Company Names', 'Cars Names', 'Engines', 'Battery Capacity_CC', 'HorsePower_hp', 'Total Speed_km/h', 'Acceleration_0_100_sec', 'Fuel Types', 'Seats', 'Torque_Nm', 'Cars Prices_USD', 'Power_Type']\n"
     ]
    }
   ],
   "source": [
    "#determine columns\n",
    "print(df.columns.tolist())\n"
   ]
  },
  {
   "cell_type": "code",
   "execution_count": 13,
   "id": "96c7b776",
   "metadata": {},
   "outputs": [],
   "source": [
    "df.drop(columns=['Engines', 'Power_Type'], inplace=True)\n"
   ]
  },
  {
   "cell_type": "code",
   "execution_count": 14,
   "id": "dc11bf42",
   "metadata": {},
   "outputs": [],
   "source": [
    "df.drop(columns=['Cars Names'], inplace=True)\n"
   ]
  },
  {
   "cell_type": "code",
   "execution_count": 15,
   "id": "94f50a8b",
   "metadata": {},
   "outputs": [
    {
     "name": "stdout",
     "output_type": "stream",
     "text": [
      "Outlier counts per numeric column:\n",
      "Battery Capacity_CC: 124\n",
      "HorsePower_hp: 55\n",
      "Total Speed_km/h: 36\n",
      "Acceleration_0_100_sec: 34\n",
      "Torque_Nm: 48\n",
      "Cars Prices_USD: 156\n"
     ]
    }
   ],
   "source": [
    "# Identify numeric columns\n",
    "numeric_cols = [\n",
    "    'Battery Capacity_CC',\n",
    "    'HorsePower_hp',\n",
    "    'Total Speed_km/h',\n",
    "    'Acceleration_0_100_sec',\n",
    "    \n",
    "    'Torque_Nm',\n",
    "    'Cars Prices_USD'\n",
    "]\n",
    "\n",
    "# Calculate outlier counts before capping\n",
    "outlier_counts = {}\n",
    "for col in numeric_cols:\n",
    "    Q1 = df[col].quantile(0.25)\n",
    "    Q3 = df[col].quantile(0.75)\n",
    "    IQR = Q3 - Q1\n",
    "    lower_bound = Q1 - 1.5 * IQR\n",
    "    upper_bound = Q3 + 1.5 * IQR\n",
    "    outlier_counts[col] = ((df[col] < lower_bound) | (df[col] > upper_bound)).sum()\n",
    "    # Apply IQR capping\n",
    "    df[col] = df[col].clip(lower=lower_bound, upper=upper_bound)\n",
    "\n",
    "# Display outlier counts\n",
    "print(\"Outlier counts per numeric column:\")\n",
    "for col, count in outlier_counts.items():\n",
    "    print(f\"{col}: {count}\")\n"
   ]
  },
  {
   "cell_type": "code",
   "execution_count": 16,
   "id": "9a3109ea",
   "metadata": {},
   "outputs": [],
   "source": [
    "# Detect outliers in 'Seats' only\n",
    "Q1 = df['Seats'].quantile(0.25)\n",
    "Q3 = df['Seats'].quantile(0.75)\n",
    "IQR = Q3 - Q1\n",
    "lower_bound = Q1 - 1.5 * IQR\n",
    "upper_bound = Q3 + 1.5 * IQR\n",
    "\n",
    "# Calculate mean of non-outliers (and round to int)\n",
    "non_outlier_mean = int(df[(df['Seats'] >= lower_bound) & (df['Seats'] <= upper_bound)]['Seats'].mean())\n",
    "\n",
    "# Replace outliers with the rounded mean\n",
    "df.loc[(df['Seats'] < lower_bound) | (df['Seats'] > upper_bound), 'Seats'] = non_outlier_mean\n"
   ]
  },
  {
   "cell_type": "code",
   "execution_count": 17,
   "id": "4fb26ae4",
   "metadata": {},
   "outputs": [],
   "source": [
    "# Encode (Fuel Types) using Label Encoding\n",
    "#from sklearn.preprocessing import LabelEncoder\n",
    "\n",
    "#df['Fuel Types'] = LabelEncoder().fit_transform(df['Fuel Types'])"
   ]
  },
  {
   "cell_type": "code",
   "execution_count": 18,
   "id": "92a26414",
   "metadata": {},
   "outputs": [],
   "source": [
    "df = df.round(1)\n"
   ]
  },
  {
   "cell_type": "code",
   "execution_count": 19,
   "id": "4c6d90fc",
   "metadata": {},
   "outputs": [],
   "source": [
    "df.to_csv(\"Data/PreprocessedCar.csv\", index=False)\n"
   ]
  },
  {
   "cell_type": "code",
   "execution_count": 20,
   "id": "60f1e3a1",
   "metadata": {},
   "outputs": [
    {
     "name": "stdout",
     "output_type": "stream",
     "text": [
      "[5]\n",
      "Seats\n",
      "5    1531\n",
      "Name: count, dtype: int64\n"
     ]
    }
   ],
   "source": [
    "print(df['Seats'].unique())\n",
    "print(df['Seats'].value_counts())\n"
   ]
  }
 ],
 "metadata": {
  "kernelspec": {
   "display_name": "base",
   "language": "python",
   "name": "python3"
  },
  "language_info": {
   "codemirror_mode": {
    "name": "ipython",
    "version": 3
   },
   "file_extension": ".py",
   "mimetype": "text/x-python",
   "name": "python",
   "nbconvert_exporter": "python",
   "pygments_lexer": "ipython3",
   "version": "3.12.7"
  }
 },
 "nbformat": 4,
 "nbformat_minor": 5
}
